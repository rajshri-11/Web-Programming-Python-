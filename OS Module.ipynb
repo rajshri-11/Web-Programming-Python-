{
 "cells": [
  {
   "cell_type": "code",
   "execution_count": 1,
   "id": "5b0a9f07-36d0-421c-b35c-b0da4e945f27",
   "metadata": {},
   "outputs": [
    {
     "name": "stdout",
     "output_type": "stream",
     "text": [
      "nt\n"
     ]
    }
   ],
   "source": [
    "\"\"\"os.name()\n",
    "This function provides the name of the operating system module that it imports.\n",
    "\n",
    "Currently, it registers 'posix', 'nt', 'os2', 'ce', 'java' and 'riscos'.\"\"\"\n",
    "import os   \n",
    "print(os.name)  "
   ]
  },
  {
   "cell_type": "code",
   "execution_count": 2,
   "id": "6bcc1a72-41fb-4152-9c10-81b4c804199c",
   "metadata": {},
   "outputs": [],
   "source": [
    "\"\"\"   os.mkdir()\n",
    "The os.mkdir() function is used to create new directory.\"\"\"\n",
    "import os  \n",
    "os.mkdir(\"d:\\\\newdir\")  "
   ]
  },
  {
   "cell_type": "code",
   "execution_count": 3,
   "id": "46e3a4bd-0d89-4c15-92fc-7bc49d0f437e",
   "metadata": {},
   "outputs": [
    {
     "name": "stdout",
     "output_type": "stream",
     "text": [
      "C:\\Users\\Admin\n"
     ]
    }
   ],
   "source": [
    "\"\"\"  os.getcwd()\n",
    "It returns the current working directory(CWD) of the file.\"\"\"\n",
    "import os     \n",
    "print(os.getcwd())   "
   ]
  },
  {
   "cell_type": "code",
   "execution_count": 5,
   "id": "f461dad8-bc81-4576-a6d8-8f728eb130a2",
   "metadata": {},
   "outputs": [],
   "source": [
    "\"\"\" os.chdir()\n",
    "The os module provides the chdir() function to change the current working directory.\"\"\"\n",
    "import os  \n",
    "os.chdir(\"d:\\\\\")  "
   ]
  },
  {
   "cell_type": "code",
   "execution_count": 6,
   "id": "b8ae46c6-d556-4acd-9643-9098c2f502e8",
   "metadata": {},
   "outputs": [
    {
     "ename": "FileNotFoundError",
     "evalue": "[WinError 2] The system cannot find the file specified: 'newdir'",
     "output_type": "error",
     "traceback": [
      "\u001b[1;31m---------------------------------------------------------------------------\u001b[0m",
      "\u001b[1;31mFileNotFoundError\u001b[0m                         Traceback (most recent call last)",
      "Cell \u001b[1;32mIn[6], line 7\u001b[0m\n\u001b[0;32m      5\u001b[0m os\u001b[38;5;241m.\u001b[39mrmdir(\u001b[38;5;124m\"\u001b[39m\u001b[38;5;124md:\u001b[39m\u001b[38;5;130;01m\\\\\u001b[39;00m\u001b[38;5;124mnewdir\u001b[39m\u001b[38;5;124m\"\u001b[39m)  \n\u001b[0;32m      6\u001b[0m os\u001b[38;5;241m.\u001b[39mchdir(\u001b[38;5;124m\"\u001b[39m\u001b[38;5;124m..\u001b[39m\u001b[38;5;124m\"\u001b[39m)  \n\u001b[1;32m----> 7\u001b[0m \u001b[43mos\u001b[49m\u001b[38;5;241;43m.\u001b[39;49m\u001b[43mrmdir\u001b[49m\u001b[43m(\u001b[49m\u001b[38;5;124;43m\"\u001b[39;49m\u001b[38;5;124;43mnewdir\u001b[39;49m\u001b[38;5;124;43m\"\u001b[39;49m\u001b[43m)\u001b[49m \n",
      "\u001b[1;31mFileNotFoundError\u001b[0m: [WinError 2] The system cannot find the file specified: 'newdir'"
     ]
    }
   ],
   "source": [
    "\"\"\" os.rmdir()\n",
    "The rmdir() function removes the specified directory with an absolute or related path. First, we have to change the current working directory and remove the folder.\"\"\"\n",
    "import os  \n",
    "# It will throw a Permission error; that's why we have to change the current working directory.  \n",
    "os.rmdir(\"d:\\\\newdir\")  \n",
    "os.chdir(\"..\")  \n",
    "os.rmdir(\"newdir\") "
   ]
  },
  {
   "cell_type": "code",
   "execution_count": 7,
   "id": "c1003cbd-dba6-41d4-8d71-e9580c5c591c",
   "metadata": {},
   "outputs": [
    {
     "ename": "ValueError",
     "evalue": "invalid mode: 'rU'",
     "output_type": "error",
     "traceback": [
      "\u001b[1;31m---------------------------------------------------------------------------\u001b[0m",
      "\u001b[1;31mValueError\u001b[0m                                Traceback (most recent call last)",
      "Cell \u001b[1;32mIn[7], line 9\u001b[0m\n\u001b[0;32m      5\u001b[0m \u001b[38;5;28;01mtry\u001b[39;00m:  \n\u001b[0;32m      6\u001b[0m     \u001b[38;5;66;03m# If file does not exist,  \u001b[39;00m\n\u001b[0;32m      7\u001b[0m     \u001b[38;5;66;03m# then it throw an IOError  \u001b[39;00m\n\u001b[0;32m      8\u001b[0m     filename \u001b[38;5;241m=\u001b[39m \u001b[38;5;124m'\u001b[39m\u001b[38;5;124mPython.txt\u001b[39m\u001b[38;5;124m'\u001b[39m  \n\u001b[1;32m----> 9\u001b[0m     f \u001b[38;5;241m=\u001b[39m \u001b[38;5;28;43mopen\u001b[39;49m\u001b[43m(\u001b[49m\u001b[43mfilename\u001b[49m\u001b[43m,\u001b[49m\u001b[43m \u001b[49m\u001b[38;5;124;43m'\u001b[39;49m\u001b[38;5;124;43mrU\u001b[39;49m\u001b[38;5;124;43m'\u001b[39;49m\u001b[43m)\u001b[49m  \n\u001b[0;32m     10\u001b[0m     text \u001b[38;5;241m=\u001b[39m f\u001b[38;5;241m.\u001b[39mread()  \n\u001b[0;32m     11\u001b[0m     f\u001b[38;5;241m.\u001b[39mclose()  \n",
      "File \u001b[1;32m~\\AppData\\Local\\Programs\\Python\\Python311\\Lib\\site-packages\\IPython\\core\\interactiveshell.py:324\u001b[0m, in \u001b[0;36m_modified_open\u001b[1;34m(file, *args, **kwargs)\u001b[0m\n\u001b[0;32m    317\u001b[0m \u001b[38;5;28;01mif\u001b[39;00m file \u001b[38;5;129;01min\u001b[39;00m {\u001b[38;5;241m0\u001b[39m, \u001b[38;5;241m1\u001b[39m, \u001b[38;5;241m2\u001b[39m}:\n\u001b[0;32m    318\u001b[0m     \u001b[38;5;28;01mraise\u001b[39;00m \u001b[38;5;167;01mValueError\u001b[39;00m(\n\u001b[0;32m    319\u001b[0m         \u001b[38;5;124mf\u001b[39m\u001b[38;5;124m\"\u001b[39m\u001b[38;5;124mIPython won\u001b[39m\u001b[38;5;124m'\u001b[39m\u001b[38;5;124mt let you open fd=\u001b[39m\u001b[38;5;132;01m{\u001b[39;00mfile\u001b[38;5;132;01m}\u001b[39;00m\u001b[38;5;124m by default \u001b[39m\u001b[38;5;124m\"\u001b[39m\n\u001b[0;32m    320\u001b[0m         \u001b[38;5;124m\"\u001b[39m\u001b[38;5;124mas it is likely to crash IPython. If you know what you are doing, \u001b[39m\u001b[38;5;124m\"\u001b[39m\n\u001b[0;32m    321\u001b[0m         \u001b[38;5;124m\"\u001b[39m\u001b[38;5;124myou can use builtins\u001b[39m\u001b[38;5;124m'\u001b[39m\u001b[38;5;124m open.\u001b[39m\u001b[38;5;124m\"\u001b[39m\n\u001b[0;32m    322\u001b[0m     )\n\u001b[1;32m--> 324\u001b[0m \u001b[38;5;28;01mreturn\u001b[39;00m \u001b[43mio_open\u001b[49m\u001b[43m(\u001b[49m\u001b[43mfile\u001b[49m\u001b[43m,\u001b[49m\u001b[43m \u001b[49m\u001b[38;5;241;43m*\u001b[39;49m\u001b[43margs\u001b[49m\u001b[43m,\u001b[49m\u001b[43m \u001b[49m\u001b[38;5;241;43m*\u001b[39;49m\u001b[38;5;241;43m*\u001b[39;49m\u001b[43mkwargs\u001b[49m\u001b[43m)\u001b[49m\n",
      "\u001b[1;31mValueError\u001b[0m: invalid mode: 'rU'"
     ]
    }
   ],
   "source": [
    "\"\"\"os.error()\n",
    "The os.error() function defines the OS level errors. It raises OSError in case of invalid or inaccessible file names and path etc.\"\"\"\n",
    "import os  \n",
    "  \n",
    "try:  \n",
    "    # If file does not exist,  \n",
    "    # then it throw an IOError  \n",
    "    filename = 'Python.txt'  \n",
    "    f = open(filename, 'rU')  \n",
    "    text = f.read()  \n",
    "    f.close()  \n",
    "  \n",
    "# The Control jumps directly to here if  \n",
    "# any lines throws IOError.  \n",
    "except IOError:  \n",
    "  \n",
    "    # print(os.error) will <class 'OSError'>  \n",
    "    print('Problem reading: ' + filename)    "
   ]
  },
  {
   "cell_type": "code",
   "execution_count": 8,
   "id": "23a05958-7545-423b-9a00-b0a13c3c7c4a",
   "metadata": {},
   "outputs": [
    {
     "name": "stdout",
     "output_type": "stream",
     "text": [
      "This is awesome\n"
     ]
    },
    {
     "data": {
      "text/plain": [
       "15"
      ]
     },
     "execution_count": 8,
     "metadata": {},
     "output_type": "execute_result"
    }
   ],
   "source": [
    "\"\"\" os.popen()\n",
    "This function opens a file or from the command specified, and it returns a file object which is connected to a pipe.\"\"\"\n",
    "import os     \n",
    "fd = \"python.txt\"      \n",
    "    \n",
    "# popen() is similar to open()     \n",
    "file = open(fd, 'w')     \n",
    "file.write(\"This is awesome\")     \n",
    "file.close()     \n",
    "file = open(fd, 'r')     \n",
    "text = file.read()     \n",
    "print(text)     \n",
    "      \n",
    "# popen() provides gateway and accesses the file directly     \n",
    "file = os.popen(fd, 'w')     \n",
    "file.write(\"This is awesome\")     \n",
    "# File not closed, shown in next function."
   ]
  },
  {
   "cell_type": "code",
   "execution_count": null,
   "id": "d9d96ecb-af86-4711-a688-07da18aaf16e",
   "metadata": {},
   "outputs": [],
   "source": [
    "\"\"\" os.close()\n",
    "This function closes the associated file with descriptor fr.\"\"\"\n",
    "import os     \n",
    "fr = \"Python1.txt\"    \n",
    "file = open(fr, 'r')     \n",
    "text = file.read()     \n",
    "print(text)     \n",
    "os.close(file)  "
   ]
  },
  {
   "cell_type": "code",
   "execution_count": 11,
   "id": "0296eb2e-3ff5-434a-a9a8-f72e99f32fc4",
   "metadata": {},
   "outputs": [
    {
     "ename": "FileNotFoundError",
     "evalue": "[WinError 2] The system cannot find the file specified: 'python.txt' -> 'Python1.txt'",
     "output_type": "error",
     "traceback": [
      "\u001b[1;31m---------------------------------------------------------------------------\u001b[0m",
      "\u001b[1;31mFileNotFoundError\u001b[0m                         Traceback (most recent call last)",
      "Cell \u001b[1;32mIn[11], line 6\u001b[0m\n\u001b[0;32m      4\u001b[0m fd \u001b[38;5;241m=\u001b[39m \u001b[38;5;124m\"\u001b[39m\u001b[38;5;124mpython.txt\u001b[39m\u001b[38;5;124m\"\u001b[39m    \n\u001b[0;32m      5\u001b[0m os\u001b[38;5;241m.\u001b[39mrename(fd,\u001b[38;5;124m'\u001b[39m\u001b[38;5;124mPython1.txt\u001b[39m\u001b[38;5;124m'\u001b[39m)     \n\u001b[1;32m----> 6\u001b[0m \u001b[43mos\u001b[49m\u001b[38;5;241;43m.\u001b[39;49m\u001b[43mrename\u001b[49m\u001b[43m(\u001b[49m\u001b[43mfd\u001b[49m\u001b[43m,\u001b[49m\u001b[38;5;124;43m'\u001b[39;49m\u001b[38;5;124;43mPython1.txt\u001b[39;49m\u001b[38;5;124;43m'\u001b[39;49m\u001b[43m)\u001b[49m  \n",
      "\u001b[1;31mFileNotFoundError\u001b[0m: [WinError 2] The system cannot find the file specified: 'python.txt' -> 'Python1.txt'"
     ]
    }
   ],
   "source": [
    "\"\"\"os.rename()\n",
    "A file or directory can be renamed by using the function os.rename(). A user can rename the file if it has privilege to change the file. \"\"\"\n",
    "import os     \n",
    "fd = \"python.txt\"    \n",
    "os.rename(fd,'Python1.txt')     \n",
    "os.rename(fd,'Python1.txt')  "
   ]
  },
  {
   "cell_type": "code",
   "execution_count": 12,
   "id": "74a1919f-6429-4801-a73e-3b6081f8d3c4",
   "metadata": {},
   "outputs": [
    {
     "name": "stdout",
     "output_type": "stream",
     "text": [
      "Exist path: False\n",
      "It access to read the file: False\n",
      "It access to write the file: False\n",
      "Check if path can be executed: False\n"
     ]
    }
   ],
   "source": [
    "\"\"\" os.access()\n",
    "This function uses real uid/gid to test if the invoking user has access to the path.\"\"\"\n",
    "import os     \n",
    "import sys    \n",
    "    \n",
    "path1 = os.access(\"Python.txt\", os.F_OK)     \n",
    "print(\"Exist path:\", path1)     \n",
    "      \n",
    "# Checking access with os.R_OK     \n",
    "path2 = os.access(\"Python.txt\", os.R_OK)     \n",
    "print(\"It access to read the file:\", path2)     \n",
    "      \n",
    "# Checking access with os.W_OK     \n",
    "path3 = os.access(\"Python.txt\", os.W_OK)     \n",
    "print(\"It access to write the file:\", path3)     \n",
    "      \n",
    "# Checking access with os.X_OK     \n",
    "path4 = os.access(\"Python.txt\", os.X_OK)     \n",
    "print(\"Check if path can be executed:\", path4)    "
   ]
  },
  {
   "cell_type": "code",
   "execution_count": null,
   "id": "a761d734-5501-4f99-a31d-ac598f545821",
   "metadata": {},
   "outputs": [],
   "source": []
  }
 ],
 "metadata": {
  "kernelspec": {
   "display_name": "Python 3 (ipykernel)",
   "language": "python",
   "name": "python3"
  },
  "language_info": {
   "codemirror_mode": {
    "name": "ipython",
    "version": 3
   },
   "file_extension": ".py",
   "mimetype": "text/x-python",
   "name": "python",
   "nbconvert_exporter": "python",
   "pygments_lexer": "ipython3",
   "version": "3.11.3"
  }
 },
 "nbformat": 4,
 "nbformat_minor": 5
}
