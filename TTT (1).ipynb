{
 "cells": [
  {
   "cell_type": "code",
   "execution_count": 1,
   "id": "f13c756a-a110-4d81-ba12-09160f1e5b68",
   "metadata": {},
   "outputs": [
    {
     "name": "stdout",
     "output_type": "stream",
     "text": [
      "4.0\n"
     ]
    }
   ],
   "source": [
    "\"\"\" Importing Standard Modules\n",
    "You can import built-in Python modules like math, os, sys, etc., using the import statement.\"\"\"\n",
    "import math\n",
    "\n",
    "# Example Usage\n",
    "result = math.sqrt(16)\n",
    "print(result)  # Output: 4.0\n"
   ]
  },
  {
   "cell_type": "code",
   "execution_count": 2,
   "id": "a7eaeb82-422f-4111-9069-41cebb2da542",
   "metadata": {},
   "outputs": [
    {
     "name": "stdout",
     "output_type": "stream",
     "text": [
      "78.53981633974483\n",
      "5.0\n"
     ]
    }
   ],
   "source": [
    "\"\"\" Using from...import Statement\n",
    "The from...import statement allows you to import specific functions or variables from a module, instead of the entire module.\"\"\"\n",
    "from math import pi, sqrt\n",
    "\n",
    "# Example Usage\n",
    "area = pi * (5 ** 2)\n",
    "root = sqrt(25)\n",
    "\n",
    "print(area)  # Output: 78.53981633974483\n",
    "print(root)  # Output: 5.0\n"
   ]
  },
  {
   "cell_type": "code",
   "execution_count": 3,
   "id": "304da955-6694-4b32-811e-d0f5be0647f6",
   "metadata": {
    "collapsed": true,
    "jupyter": {
     "outputs_hidden": true
    }
   },
   "outputs": [
    {
     "name": "stdout",
     "output_type": "stream",
     "text": [
      "Current Directory: C:\\Users\\Admin\n",
      "Files and Directories: ['(Matplotlib Bar plot and Histogram.ipynb', '(Matplotlib.ipynb', '.angular-config.json', '.bash_history', '.cache', '.config', '.eclipse', '.gitconfig', '.idlerc', '.ipynb_checkpoints', '.ipython', '.jupyter', '.lesshst', '.m2', '.matplotlib', '.node_repl_history', '.opera', '.p2', '.sts4', '.vscode', '3D Objects', 'a.ipynb', 'after_drop.csv', 'AppData', 'Application Data', 'Assignment2 (4).ipynb', 'cleaned_data.csv', 'Contacts', 'Cookies', 'data.txt', 'Datatype.ipynb', 'Desktop', 'Documents', 'Downloads', 'eclipse', 'eclipse-workspace', 'experiment_data.mat', 'Favorites', 'git', 'Hello.ipynb', 'IntelGraphicsProfiles', 'Links', 'Local Settings', 'Math_Module.ipynb', 'Matplotlib more plot and formatting.ipynb', 'Matplotlib more plots and formatting.ipynb', 'Matplotlibchat.ipynb', 'matplotlibexample.ipynb', 'Modules.ipynb', 'Music', 'mvn', 'My Documents', 'my-first-project', 'NetHood', 'new_folder', 'node_modules', 'NTUSER.DAT', 'ntuser.dat.LOG1', 'ntuser.dat.LOG2', 'NTUSER.DAT{53b39e88-18c4-11ea-a811-000d3aa4692b}.TM.blf', 'NTUSER.DAT{53b39e88-18c4-11ea-a811-000d3aa4692b}.TMContainer00000000000000000001.regtrans-ms', 'NTUSER.DAT{53b39e88-18c4-11ea-a811-000d3aa4692b}.TMContainer00000000000000000002.regtrans-ms', 'ntuser.ini', 'Numpy Mathematical and Logical Operations.ipynb', 'Numpy Stastical Function.ipynb', 'NumpySliceingclass.ipynb', 'NumpySlicing.ipynb', 'NumpySlicing.txt', 'Numpy_Function.ipynb', 'OneDrive', 'OS Module.ipynb', 'output.csv', 'output1.csv', 'output12.csv', 'package-lock.json', 'package.json', 'Pandas Data Analysis.ipynb', 'Pandas DataFrame.ipynb', 'Pandas IO and Cleaning Data.ipynb', 'Pandas Pivot Table.ipynb', 'Pandas series _dataframe.ipynb', 'Pandas.ipynb', 'Pictures', 'Postman', 'PrintHood', 'Product_Sales_Analysis (1).ipynb', 'Recent', 'Saved Games', 'SciPy Linear Algebra and Ndimage.ipynb', 'Scipy Transform,Interpolation and IO.ipynb', 'Scipy.ipynb', 'Scipy_Constant.ipynb', 'Searches', 'SendTo', 'Special (Magic) Methods.ipynb', 'Start Menu', 'student_scores.npy', 'Templates', 'TTT.ipynb', 'Untitled.ipynb', 'Untitled1.ipynb', 'Untitled10.ipynb', 'Untitled11.ipynb', 'Untitled12.ipynb', 'Untitled2.ipynb', 'Untitled3.ipynb', 'Untitled4.ipynb', 'Untitled5.ipynb', 'Untitled6.ipynb', 'Untitled7.ipynb', 'Untitled8.ipynb', 'Untitled9.ipynb', 'Videos', 'WPS Cloud Files']\n"
     ]
    },
    {
     "ename": "FileExistsError",
     "evalue": "[WinError 183] Cannot create a file when that file already exists: 'new_folder'",
     "output_type": "error",
     "traceback": [
      "\u001b[1;31m---------------------------------------------------------------------------\u001b[0m",
      "\u001b[1;31mFileExistsError\u001b[0m                           Traceback (most recent call last)",
      "Cell \u001b[1;32mIn[3], line 14\u001b[0m\n\u001b[0;32m     11\u001b[0m \u001b[38;5;28mprint\u001b[39m(\u001b[38;5;124m\"\u001b[39m\u001b[38;5;124mFiles and Directories:\u001b[39m\u001b[38;5;124m\"\u001b[39m, files)\n\u001b[0;32m     13\u001b[0m \u001b[38;5;66;03m# Create a new directory\u001b[39;00m\n\u001b[1;32m---> 14\u001b[0m \u001b[43mos\u001b[49m\u001b[38;5;241;43m.\u001b[39;49m\u001b[43mmkdir\u001b[49m\u001b[43m(\u001b[49m\u001b[38;5;124;43m\"\u001b[39;49m\u001b[38;5;124;43mnew_folder\u001b[39;49m\u001b[38;5;124;43m\"\u001b[39;49m\u001b[43m)\u001b[49m\n\u001b[0;32m     15\u001b[0m \u001b[38;5;28mprint\u001b[39m(\u001b[38;5;124m\"\u001b[39m\u001b[38;5;124mnew_folder created\u001b[39m\u001b[38;5;124m\"\u001b[39m)\n",
      "\u001b[1;31mFileExistsError\u001b[0m: [WinError 183] Cannot create a file when that file already exists: 'new_folder'"
     ]
    }
   ],
   "source": [
    "\"\"\" os Module\n",
    "The os module allows you to interact with the operating system.\"\"\"\n",
    "import os\n",
    "\n",
    "# Get the current working directory\n",
    "current_dir = os.getcwd()\n",
    "print(f\"Current Directory: {current_dir}\")\n",
    "\n",
    "# List files and directories\n",
    "files = os.listdir(current_dir)\n",
    "print(\"Files and Directories:\", files)\n",
    "\n",
    "# Create a new directory\n",
    "os.mkdir(\"new_folder\")\n",
    "print(\"new_folder created\")"
   ]
  },
  {
   "cell_type": "code",
   "execution_count": 4,
   "id": "a70816ef-38f4-4e99-99c3-3c111be2b691",
   "metadata": {},
   "outputs": [
    {
     "name": "stdout",
     "output_type": "stream",
     "text": [
      "Script Name: C:\\Users\\Admin\\AppData\\Local\\Programs\\Python\\Python311\\Lib\\site-packages\\ipykernel_launcher.py\n",
      "Arguments: ['-f', 'C:\\\\Users\\\\Admin\\\\AppData\\\\Roaming\\\\jupyter\\\\runtime\\\\kernel-386f3005-b767-4f4b-bb7d-a5cfcb5200e4.json']\n"
     ]
    },
    {
     "ename": "SystemExit",
     "evalue": "Exiting the script",
     "output_type": "error",
     "traceback": [
      "An exception has occurred, use %tb to see the full traceback.\n",
      "\u001b[1;31mSystemExit\u001b[0m\u001b[1;31m:\u001b[0m Exiting the script\n"
     ]
    },
    {
     "name": "stderr",
     "output_type": "stream",
     "text": [
      "C:\\Users\\Admin\\AppData\\Local\\Programs\\Python\\Python311\\Lib\\site-packages\\IPython\\core\\interactiveshell.py:3585: UserWarning: To exit: use 'exit', 'quit', or Ctrl-D.\n",
      "  warn(\"To exit: use 'exit', 'quit', or Ctrl-D.\", stacklevel=1)\n"
     ]
    }
   ],
   "source": [
    "\"\"\" sys Module\n",
    "The sys module provides access to system-specific parameters and functions.\n",
    "Example: Command-line Arguments and Exiting the Program\"\"\"\n",
    "\n",
    "import sys\n",
    "\n",
    "# Command-line arguments\n",
    "print(\"Script Name:\", sys.argv[0])\n",
    "print(\"Arguments:\", sys.argv[1:])\n",
    "\n",
    "# Exit the program with a custom message\n",
    "sys.exit(\"Exiting the script\")"
   ]
  },
  {
   "cell_type": "code",
   "execution_count": 5,
   "id": "f5f00e02-b04b-4d5b-8942-fd0b0f4a047d",
   "metadata": {},
   "outputs": [
    {
     "name": "stdout",
     "output_type": "stream",
     "text": [
      "Cosine of 45°: 0.7071067811865476\n",
      "5! (Factorial of 5): 120\n",
      "Logarithm base 10 of 100: 2.0\n"
     ]
    }
   ],
   "source": [
    "\"\"\"\n",
    "math Module\n",
    "The math module provides mathematical functions like trigonometry, logarithms, and constants like pi and e.\"\"\"\n",
    "import math\n",
    "\n",
    "# Example Usage\n",
    "angle_rad = math.radians(45)  # Convert degrees to radians\n",
    "cos_value = math.cos(angle_rad)\n",
    "factorial = math.factorial(5)\n",
    "log_value = math.log(100, 10)  # Logarithm base 10\n",
    "\n",
    "print(f\"Cosine of 45°: {cos_value}\")\n",
    "print(f\"5! (Factorial of 5): {factorial}\")\n",
    "print(f\"Logarithm base 10 of 100: {log_value}\")"
   ]
  },
  {
   "cell_type": "code",
   "execution_count": 6,
   "id": "99e994b4-7474-4b09-bbfa-922ce7c6bcaa",
   "metadata": {},
   "outputs": [
    {
     "name": "stdout",
     "output_type": "stream",
     "text": [
      "Current Date and Time: 2024-11-02 12:35:15.423730\n",
      "Formatted Date and Time: 2024-11-02 12:35:15\n",
      "Date 5 Days From Now: 2024-11-07 12:35:15.423730\n"
     ]
    }
   ],
   "source": [
    "\"\"\" datetime Module\n",
    "The datetime module provides classes for manipulating dates and times.\"\"\"\n",
    "import datetime\n",
    "\n",
    "# Get the current date and time\n",
    "current_time = datetime.datetime.now()\n",
    "print(\"Current Date and Time:\", current_time)\n",
    "\n",
    "# Formatting date and time\n",
    "formatted_time = current_time.strftime(\"%Y-%m-%d %H:%M:%S\")\n",
    "print(\"Formatted Date and Time:\", formatted_time)\n",
    "\n",
    "# Calculate a future date\n",
    "future_date = current_time + datetime.timedelta(days=5)\n",
    "print(\"Date 5 Days From Now:\", future_date)"
   ]
  },
  {
   "cell_type": "code",
   "execution_count": 7,
   "id": "d9dda3d8-cac9-4b5c-bfe9-3110d4545832",
   "metadata": {},
   "outputs": [
    {
     "name": "stdout",
     "output_type": "stream",
     "text": [
      "2024-11-02\n"
     ]
    }
   ],
   "source": [
    "from datetime import date\n",
    "\n",
    "today = date.today()\n",
    "print(today)"
   ]
  },
  {
   "cell_type": "code",
   "execution_count": 20,
   "id": "d1e56a97-8d6f-4b29-9293-3de96e863861",
   "metadata": {},
   "outputs": [
    {
     "name": "stdout",
     "output_type": "stream",
     "text": [
      "2024\n",
      "11\n",
      "2\n"
     ]
    }
   ],
   "source": [
    "print(now.year)\n",
    "print(now.month)\n",
    "print(now.day)\n"
   ]
  },
  {
   "cell_type": "code",
   "execution_count": 12,
   "id": "35b47c48-1c12-4aca-b25c-a292397dcd5d",
   "metadata": {},
   "outputs": [
    {
     "name": "stdout",
     "output_type": "stream",
     "text": [
      "['C:\\\\Users\\\\Admin\\\\AppData\\\\Local\\\\Programs\\\\Python\\\\Python311\\\\Lib\\\\site-packages\\\\ipykernel_launcher.py', '-f', 'C:\\\\Users\\\\Admin\\\\AppData\\\\Roaming\\\\jupyter\\\\runtime\\\\kernel-386f3005-b767-4f4b-bb7d-a5cfcb5200e4.json']\n"
     ]
    }
   ],
   "source": [
    "import sys\n",
    "\n",
    "print(sys.argv) "
   ]
  },
  {
   "cell_type": "code",
   "execution_count": 21,
   "id": "4d678436-1a5a-4fe8-8bd2-496e422a2ab6",
   "metadata": {},
   "outputs": [
    {
     "name": "stdout",
     "output_type": "stream",
     "text": [
      "14:30:45\n"
     ]
    }
   ],
   "source": [
    "#Creating Time Object\n",
    "from datetime import time\n",
    "my_time = time(14, 30, 45)\n",
    "print(my_time)  # Output: 14:30:45\n"
   ]
  },
  {
   "cell_type": "code",
   "execution_count": 22,
   "id": "37a57e93-3234-49ed-a909-d49217759682",
   "metadata": {},
   "outputs": [
    {
     "name": "stdout",
     "output_type": "stream",
     "text": [
      "2024-11-02 13:08:46.430085\n"
     ]
    }
   ],
   "source": [
    "#Creating a Datetime Object\n",
    "from datetime import datetime\n",
    "\n",
    "now = datetime.now()\n",
    "print(now)  # Output: Current date and time\n"
   ]
  },
  {
   "cell_type": "code",
   "execution_count": 13,
   "id": "e77e9861-7a9e-4632-9227-3420763f3d1c",
   "metadata": {},
   "outputs": [
    {
     "ename": "SystemExit",
     "evalue": "0",
     "output_type": "error",
     "traceback": [
      "An exception has occurred, use %tb to see the full traceback.\n",
      "\u001b[1;31mSystemExit\u001b[0m\u001b[1;31m:\u001b[0m 0\n"
     ]
    }
   ],
   "source": [
    "import sys\n",
    "\n",
    "sys.exit(0)  # Exits the script successfully\n"
   ]
  },
  {
   "cell_type": "code",
   "execution_count": 14,
   "id": "87e83044-8746-4b01-8a68-bd99ab63ec9d",
   "metadata": {},
   "outputs": [
    {
     "name": "stdout",
     "output_type": "stream",
     "text": [
      "3.11.3 (tags/v3.11.3:f3909b8, Apr  4 2023, 23:49:59) [MSC v.1934 64 bit (AMD64)]\n"
     ]
    }
   ],
   "source": [
    "import sys\n",
    "print(sys.version)  # Outputs the version of Python"
   ]
  },
  {
   "cell_type": "code",
   "execution_count": 15,
   "id": "7ab249b5-2c36-4278-9b24-5b5aaccce892",
   "metadata": {},
   "outputs": [
    {
     "name": "stdout",
     "output_type": "stream",
     "text": [
      "win32\n"
     ]
    }
   ],
   "source": [
    "\n",
    "#A string that indicates the platform (OS) on which Python is running.\n",
    "import sys\n",
    "\n",
    "print(sys.platform)  # Outputs the platform name (e.g., 'win32', 'darwin' for macOS, 'linux')\n"
   ]
  },
  {
   "cell_type": "code",
   "execution_count": 25,
   "id": "12a94ad8-264c-4344-87cc-f3cb2b952fba",
   "metadata": {},
   "outputs": [
    {
     "name": "stdout",
     "output_type": "stream",
     "text": [
      "This is output to standard output.\n"
     ]
    },
    {
     "name": "stderr",
     "output_type": "stream",
     "text": [
      "This is output to standard error.\n"
     ]
    },
    {
     "data": {
      "text/plain": [
       "34"
      ]
     },
     "execution_count": 25,
     "metadata": {},
     "output_type": "execute_result"
    }
   ],
   "source": [
    "#File objects used for standard input, output, and error streams, respectively.\n",
    "import sys\n",
    "sys.stdout.write(\"This is output to standard output.\\n\")\n",
    "sys.stderr.write(\"This is output to standard error.\\n\")\n"
   ]
  },
  {
   "cell_type": "code",
   "execution_count": null,
   "id": "64feaa0b-2f22-4c33-a0fd-6a8e6e742ff6",
   "metadata": {},
   "outputs": [],
   "source": []
  }
 ],
 "metadata": {
  "kernelspec": {
   "display_name": "Python 3 (ipykernel)",
   "language": "python",
   "name": "python3"
  },
  "language_info": {
   "codemirror_mode": {
    "name": "ipython",
    "version": 3
   },
   "file_extension": ".py",
   "mimetype": "text/x-python",
   "name": "python",
   "nbconvert_exporter": "python",
   "pygments_lexer": "ipython3",
   "version": "3.11.3"
  }
 },
 "nbformat": 4,
 "nbformat_minor": 5
}
