{
 "cells": [
  {
   "cell_type": "code",
   "execution_count": 1,
   "id": "3f9fc5a1-fc69-4acd-96a8-056533d9ca9c",
   "metadata": {},
   "outputs": [
    {
     "name": "stdout",
     "output_type": "stream",
     "text": [
      "4\n",
      "30\n"
     ]
    }
   ],
   "source": [
    "\"\"\"Special (Magic) Methods:\n",
    "Special methods in Python are methods that start and end with double underscores (__). They allow customization of behavior for built-in operations.\n",
    "\n",
    "Example of the __len__ and __getitem__ magic methods: \"\"\"\n",
    "class CustomList:\n",
    "    def __init__(self, data):\n",
    "        self.data = data\n",
    "\n",
    "    def __len__(self):\n",
    "        return len(self.data)\n",
    "\n",
    "    def __getitem__(self, index):\n",
    "        return self.data[index]\n",
    "\n",
    "# Example Usage\n",
    "cl = CustomList([10, 20, 30, 40])\n",
    "print(len(cl))  # Output: 4\n",
    "print(cl[2])    # Output: 30\n"
   ]
  },
  {
   "cell_type": "code",
   "execution_count": 2,
   "id": "75d0613b-f161-456c-b737-18df42ff5c8c",
   "metadata": {},
   "outputs": [
    {
     "name": "stdout",
     "output_type": "stream",
     "text": [
      "Person(Alice, 30)\n"
     ]
    }
   ],
   "source": [
    "# __init__ and __str__ Methods:\n",
    "#The __init__ method is the constructor for a class and is called when an object is instantiated. The __str__ method is used to define how the object should be printed.\n",
    "class Person:\n",
    "    def __init__(self, name, age):\n",
    "        self.name = name\n",
    "        self.age = age\n",
    "\n",
    "    def __str__(self):\n",
    "        return f'Person({self.name}, {self.age})'\n",
    "\n",
    "# Example Usage\n",
    "p = Person(\"Alice\", 30)\n",
    "print(p)  # Output: Person(Alice, 30)\n"
   ]
  },
  {
   "cell_type": "code",
   "execution_count": 3,
   "id": "ff3c5628-e6d9-4bb1-a0d7-2ab62230b97a",
   "metadata": {},
   "outputs": [
    {
     "name": "stdout",
     "output_type": "stream",
     "text": [
      "Vector(6, 8)\n"
     ]
    }
   ],
   "source": [
    "#Operator Overloading :\n",
    "class Vector:\n",
    "    def __init__(self, x, y):\n",
    "        self.x = x\n",
    "        self.y = y\n",
    "\n",
    "    def __add__(self, other):\n",
    "        return Vector(self.x + other.x, self.y + other.y)\n",
    "\n",
    "    def __str__(self):\n",
    "        return f'Vector({self.x}, {self.y})'\n",
    "\n",
    "# Example Usage\n",
    "v1 = Vector(2, 3)\n",
    "v2 = Vector(4, 5)\n",
    "v3 = v1 + v2\n",
    "print(v3)  # Output: Vector(6, 8)\n"
   ]
  },
  {
   "cell_type": "code",
   "execution_count": 4,
   "id": "d25c12f0-ddb6-411e-b92f-749629207932",
   "metadata": {},
   "outputs": [
    {
     "name": "stdout",
     "output_type": "stream",
     "text": [
      "4 + 6i\n",
      "-5 + 10i\n"
     ]
    }
   ],
   "source": [
    "#Example of using a class to represent complex numbers and overloading operators for addition and multiplication :\n",
    "class ComplexNumber:\n",
    "    def __init__(self, real, imag):\n",
    "        self.real = real\n",
    "        self.imag = imag\n",
    "\n",
    "    def __add__(self, other):\n",
    "        return ComplexNumber(self.real + other.real, self.imag + other.imag)\n",
    "\n",
    "    def __mul__(self, other):\n",
    "        real_part = self.real * other.real - self.imag * other.imag\n",
    "        imag_part = self.imag * other.real + self.real * other.imag\n",
    "        return ComplexNumber(real_part, imag_part)\n",
    "\n",
    "    def __str__(self):\n",
    "        return f\"{self.real} + {self.imag}i\"\n",
    "\n",
    "# Example Usage\n",
    "c1 = ComplexNumber(1, 2)\n",
    "c2 = ComplexNumber(3, 4)\n",
    "print(c1 + c2)  # Output: 4 + 6i\n",
    "print(c1 * c2)  # Output: -5 + 10i\n"
   ]
  },
  {
   "cell_type": "code",
   "execution_count": 7,
   "id": "6f711c2d-9ca9-4516-84ef-a49c9a6ac5c6",
   "metadata": {},
   "outputs": [
    {
     "name": "stdout",
     "output_type": "stream",
     "text": [
      "Now called __init__ magic method, after tha initialised parameters\n",
      "<__main__.methods object at 0x0000026F2F1EF110>\n",
      "Name, standard, and marks of the student is: \n",
      " Itika \n",
      " 11 \n",
      " 98\n"
     ]
    }
   ],
   "source": [
    "#__init__ Method :\n",
    "#After we have constructed an instance of the class, but before that instance is returned to the caller of the class, the _init_ method is executed. When we create an instance of the class, it is called automatically, just like constructors in various programming languages like the popular ones C++, Java, C#, PHP, etc. These methods are invoked after _new_ and therefore are referred to as initialising. \n",
    "  \n",
    "  \n",
    "# Creating a class  \n",
    "class methods():  \n",
    "    def __init__(self, *args):  \n",
    "        print (\"Now called __init__ magic method, after tha initialised parameters\")  \n",
    "        self.name = args[0]  \n",
    "        self.std = args[1]  \n",
    "        self.marks = args[2]  \n",
    "  \n",
    "Student = methods(\"Itika\", 11, 98)  \n",
    "print(Student)  \n",
    "print(f\"Name, standard, and marks of the student is: \\n\", Student.name, \"\\n\", Student.std, \"\\n\", Student.marks) \n"
   ]
  },
  {
   "cell_type": "code",
   "execution_count": 9,
   "id": "35894cf4-5654-465a-aa83-823e7ef1cf74",
   "metadata": {},
   "outputs": [
    {
     "name": "stdout",
     "output_type": "stream",
     "text": [
      "Creating an instance by __new__ method\n",
      "Init method is called here\n"
     ]
    },
    {
     "data": {
      "text/plain": [
       "<__main__.Method at 0x26f2f1e9190>"
      ]
     },
     "execution_count": 9,
     "metadata": {},
     "output_type": "execute_result"
    }
   ],
   "source": [
    "\"\"\"__new__() Method\n",
    "The magic method __new__() is called implicitly by the __init__() method. The new instance returned by the __new__() method is initialised. To modify the creation of objects in a user-defined class, we must supply a modified implementation of the __new__() magic method. We need to provide the first argument as the reference to the class whose object is to be created for this static function.\n",
    " Python program to show how __new__ method works   \"\"\" \n",
    "    \n",
    "# Creating a class  \n",
    "class Method(object):  \n",
    "    def __new__( cls ):  \n",
    "        print( \"Creating an instance by __new__ method\")  \n",
    "        return super(Method, cls).__new__(cls)  \n",
    "    # Calling the init method  \n",
    "    def __init__( self ):  \n",
    "        print( \"Init method is called here\" )  \n",
    "  \n",
    "Method()                                                                                                                                                                                                                                                                                                                                                                                "
   ]
  },
  {
   "cell_type": "code",
   "execution_count": 10,
   "id": "4fbe5253-78df-4a75-be25-4bd89152ca9a",
   "metadata": {},
   "outputs": [
    {
     "name": "stdout",
     "output_type": "stream",
     "text": [
      " Attribute\n",
      " 27\n",
      " 27 Attribute\n"
     ]
    }
   ],
   "source": [
    "\"\"\"__add__ Method\n",
    "We use the magic method __add__to add the class instance's attributes. Consider the scenario where object1 belongs to class Method and object2 belongs to class Method 1, both of which have the same attribute called \"attribute\" that stores any value passed to the class while creating the instance. If specified to add the attributes, the __add__ function implicitly adds the instances' same attributes, such as object1.attribute + object2.attribute, when the action object1 + object2 is completed.\n",
    "\n",
    "\"\"\"\n",
    "# Python program to show how to add two attributes  \n",
    "# Creating a class  \n",
    "class Method:  \n",
    "    def __init__(self, argument):  \n",
    "        self.attribute = argument  \n",
    "  \n",
    "# Creating a second class  \n",
    "class Method_2:  \n",
    "    def __init__(self, argument):  \n",
    "        self.attribute = argument  \n",
    "# creating the instances  \n",
    "instance_1 = Method(\" Attribute\")  \n",
    "print(instance_1.attribute)  \n",
    "instance_2 = Method_2(\" 27\")  \n",
    "print(instance_2.attribute)  \n",
    "  \n",
    "# Adding two attributes of the instances  \n",
    "print(instance_2.attribute + instance_1.attribute) "
   ]
  },
  {
   "cell_type": "code",
   "execution_count": 11,
   "id": "baf4ebb4-e783-4934-9224-766b02b7333c",
   "metadata": {},
   "outputs": [
    {
     "name": "stdout",
     "output_type": "stream",
     "text": [
      "Following are the values of the attributes of the class Method:\n",
      "x = 4\n",
      "y = 6\n",
      "z = 2\n"
     ]
    }
   ],
   "source": [
    "\"\"\" __repr__ Method\n",
    "The class instance is represented as a string using the magic method __repr__. The __repr__ method, which produces a string in the output, is automatically called whenever we attempt to print an object of that class.\"\"\"\n",
    "# Python program to show how __repr__ magic method works  \n",
    "  \n",
    "# Creating a class  \n",
    "class Method:  \n",
    "    # Calling __init__ method and initializing the attributes of the class  \n",
    "    def __init__(self, x, y, z):  \n",
    "        self.x = x  \n",
    "        self.y = y  \n",
    "        self.z = z  \n",
    "    # Calling the __repr__ method and providing the string to be printed each time instance is printe  \n",
    "    def __repr__(self):  \n",
    "        return f\"Following are the values of the attributes of the class Method:\\nx = {self.x}\\ny = {self.y}\\nz = {self.z}\"  \n",
    "instance = Method(4, 6, 2)  \n",
    "print(instance)  "
   ]
  },
  {
   "cell_type": "code",
   "execution_count": 12,
   "id": "d3361d28-689c-4855-a459-07b13ec175a6",
   "metadata": {},
   "outputs": [
    {
     "name": "stdout",
     "output_type": "stream",
     "text": [
      "4 is contained in attribute:  True\n",
      "5 is contained in attribute:  False\n"
     ]
    }
   ],
   "source": [
    "\"\"\" __contains__ Method\n",
    "The 'in' membership operator of Python implicitly calls the __contains__ method. We can use the __contains__ method to determine if an element is contained in an object's attributes. We can use this method for attributes that are containers ( such as lists, tuples, etc.).\"\"\"\n",
    "# Creating a class  \n",
    "class Method:  \n",
    "    # Calling the __init__ method and initializing the attributes  \n",
    "    def __init__(self, attribute):  \n",
    "        self.attribute = attribute  \n",
    "          \n",
    "    # Calling the __contains__ method  \n",
    "    def __contains__(self, attribute):  \n",
    "        return attribute in self.attribute  \n",
    "# Creating an instance of the class  \n",
    "instance = Method([4, 6, 8, 9, 1, 6])  \n",
    "  \n",
    "# Checking if a value is present in the container attribute  \n",
    "print(\"4 is contained in \"\"attribute\"\": \", 4 in instance)  \n",
    "print(\"5 is contained in \"\"attribute\"\": \", 5 in instance)  \n"
   ]
  },
  {
   "cell_type": "code",
   "execution_count": 13,
   "id": "3659c622-137a-4a9b-b5b8-3e8a3b292ad8",
   "metadata": {},
   "outputs": [
    {
     "name": "stdout",
     "output_type": "stream",
     "text": [
      "7\n",
      "35\n"
     ]
    }
   ],
   "source": [
    "\"\"\" __call__ Method\n",
    "When a class instance is called, the Python interpreter calls the magic method __call__. We can utilise the __call__ method to explicitly call an operation using the instance name rather than creating an additional method to carry out specific activities.\"\"\"\n",
    "# Python program to show how the __call__ magic method works  \n",
    "  \n",
    "# Creating a class  \n",
    "class Method:  \n",
    "    # Calling the __init__ method and initializing the attributes  \n",
    "    def __init__(self, a):  \n",
    "        self.a = a  \n",
    "    # Calling the __call__ method to multiply a number to the attribute value  \n",
    "    def __call__(self, number):  \n",
    "        return self.a * number  \n",
    "  \n",
    "# Creating an instance and proving the value to the attribute a  \n",
    "instance = Method(7)  \n",
    "print(instance.a) # Printing the value of the attribute a  \n",
    "# Calling the instance while passing a value which will call the __call__ method  \n",
    "print(instance(5))  "
   ]
  },
  {
   "cell_type": "code",
   "execution_count": 14,
   "id": "c45c87ae-d56e-4ae2-856e-3a812856207c",
   "metadata": {},
   "outputs": [
    {
     "name": "stdout",
     "output_type": "stream",
     "text": [
      "9\n",
      "16\n",
      "25\n",
      "36\n",
      "49\n",
      "64\n"
     ]
    }
   ],
   "source": [
    "\"\"\"__iter__ Method:\n",
    "For the given instance, a generator object is supplied using the __iter__ method. To benefit from the __iter__ method, we can leverage the iter() and next() methods. \"\"\"\n",
    "\n",
    "# Python program to show how the __iter__ method works  \n",
    "  \n",
    "# Creating a class  \n",
    "class Method:  \n",
    "    def __init__(self, start_value, stop_value):  \n",
    "        self.start = start_value  \n",
    "        self.stop = stop_value  \n",
    "    def __iter__(self):  \n",
    "        for num in range(self.start, self.stop + 1):  \n",
    "            yield num ** 2  \n",
    "# Creating an instance  \n",
    "instance = iter(Method(3, 8))  \n",
    "print( next(instance) )  \n",
    "print( next(instance) )  \n",
    "print( next(instance) )  \n",
    "print( next(instance) )  \n",
    "print( next(instance) )  \n",
    "print( next(instance) )  \n"
   ]
  },
  {
   "cell_type": "code",
   "execution_count": 15,
   "id": "d39222ac-0dfd-4c1c-a5d9-dce4ed8d12a4",
   "metadata": {},
   "outputs": [
    {
     "name": "stdout",
     "output_type": "stream",
     "text": [
      "True\n",
      "True\n"
     ]
    }
   ],
   "source": [
    "\"\"\" Comparison Operators (__eq__, __lt__, etc.)\n",
    "You can overload comparison operators like ==, <, >, etc.\n",
    "__eq__: Defines equality using the == operator.\n",
    "__lt__: Defines \"less than\" using the < operator.\"\"\"\n",
    "\n",
    "class Car:\n",
    "    def __init__(self, brand, max_speed):\n",
    "        self.brand = brand\n",
    "        self.max_speed = max_speed\n",
    "\n",
    "    def __eq__(self, other):\n",
    "        return self.max_speed == other.max_speed\n",
    "\n",
    "    def __lt__(self, other):\n",
    "        return self.max_speed < other.max_speed\n",
    "\n",
    "    def __str__(self):\n",
    "        return f\"{self.brand} with max speed {self.max_speed} km/h\"\n",
    "\n",
    "# Example Usage\n",
    "car1 = Car(\"Toyota\", 180)\n",
    "car2 = Car(\"Honda\", 200)\n",
    "car3 = Car(\"Toyota\", 180)\n",
    "\n",
    "print(car1 == car3)  # Output: True\n",
    "print(car1 < car2)   # Output: True\n"
   ]
  },
  {
   "cell_type": "code",
   "execution_count": 16,
   "id": "4ff6e944-7ff4-4606-8cf8-1258e2018286",
   "metadata": {},
   "outputs": [
    {
     "name": "stdout",
     "output_type": "stream",
     "text": [
      "1/6\n",
      "3/2\n"
     ]
    }
   ],
   "source": [
    "\"\"\" Operator Overloading :\n",
    "Overloading - and / Operators :\n",
    "You can overload subtraction (__sub__) and division (__truediv__).\"\"\"\n",
    "class Fraction:\n",
    "    def __init__(self, numerator, denominator):\n",
    "        self.numerator = numerator\n",
    "        self.denominator = denominator\n",
    "\n",
    "    def __sub__(self, other):\n",
    "        numerator = (self.numerator * other.denominator) - (other.numerator * self.denominator)\n",
    "        denominator = self.denominator * other.denominator\n",
    "        return Fraction(numerator, denominator)\n",
    "\n",
    "    def __truediv__(self, other):\n",
    "        numerator = self.numerator * other.denominator\n",
    "        denominator = self.denominator * other.numerator\n",
    "        return Fraction(numerator, denominator)\n",
    "\n",
    "    def __str__(self):\n",
    "        return f\"{self.numerator}/{self.denominator}\"\n",
    "\n",
    "# Example Usage\n",
    "f1 = Fraction(1, 2)\n",
    "f2 = Fraction(1, 3)\n",
    "f3 = f1 - f2\n",
    "f4 = f1 / f2\n",
    "print(f3)  # Output: 1/6\n",
    "print(f4)  # Output: 3/2\n"
   ]
  },
  {
   "cell_type": "code",
   "execution_count": 17,
   "id": "a6a282c6-2d39-456c-935a-ee617417a5e3",
   "metadata": {},
   "outputs": [
    {
     "name": "stdout",
     "output_type": "stream",
     "text": [
      "Account owner: Alice, Balance: $1600\n"
     ]
    }
   ],
   "source": [
    "\"\"\" Bank Account Class: example for managing a bank account with operator overloading and special methods.\"\"\"\n",
    "class BankAccount:\n",
    "    def __init__(self, owner, balance=0):\n",
    "        self.owner = owner\n",
    "        self.balance = balance\n",
    "\n",
    "    def deposit(self, amount):\n",
    "        self.balance += amount\n",
    "\n",
    "    def withdraw(self, amount):\n",
    "        if amount > self.balance:\n",
    "            raise ValueError(\"Insufficient funds\")\n",
    "        self.balance -= amount\n",
    "\n",
    "    def __add__(self, other):\n",
    "        return BankAccount(self.owner, self.balance + other.balance)\n",
    "\n",
    "    def __str__(self):\n",
    "        return f\"Account owner: {self.owner}, Balance: ${self.balance}\"\n",
    "\n",
    "# Example Usage\n",
    "acc1 = BankAccount(\"Alice\", 1000)\n",
    "acc2 = BankAccount(\"Alice\", 500)\n",
    "\n",
    "# Deposit and Withdraw\n",
    "acc1.deposit(200)\n",
    "acc1.withdraw(100)\n",
    "\n",
    "# Combine two accounts\n",
    "acc3 = acc1 + acc2\n",
    "print(acc3)  # Output: Account owner: Alice, Balance: $1600\n"
   ]
  },
  {
   "cell_type": "code",
   "execution_count": 18,
   "id": "403a8fe3-5421-47bb-9319-722166fcd381",
   "metadata": {},
   "outputs": [
    {
     "name": "stdout",
     "output_type": "stream",
     "text": [
      "4\n",
      "3\n",
      "2\n",
      "1\n",
      "0\n"
     ]
    }
   ],
   "source": [
    "\"\"\"  __iter__ and __next__ for Iteration\n",
    "You can make a class iterable by implementing __iter__ and __next__. This is useful when you want to iterate over custom objects.\n",
    "__iter__: Initializes the iterator.\n",
    "__next__: Defines how the iteration should progress and when to stop.\"\"\"\n",
    "class Countdown:\n",
    "    def __init__(self, start):\n",
    "        self.start = start\n",
    "\n",
    "    def __iter__(self):\n",
    "        self.n = self.start\n",
    "        return self\n",
    "\n",
    "    def __next__(self):\n",
    "        if self.n <= 0:\n",
    "            raise StopIteration\n",
    "        self.n -= 1\n",
    "        return self.n\n",
    "\n",
    "# Example Usage\n",
    "countdown = Countdown(5)\n",
    "for num in countdown:\n",
    "    print(num)\n",
    "# Output: 4, 3, 2, 1, 0\n"
   ]
  },
  {
   "cell_type": "code",
   "execution_count": 19,
   "id": "4575c16c-eea0-42ee-a20a-1b79b280ce27",
   "metadata": {},
   "outputs": [
    {
     "name": "stdout",
     "output_type": "stream",
     "text": [
      "Ferrari\n",
      "'color' attribute is not defined\n"
     ]
    },
    {
     "ename": "ValueError",
     "evalue": "Speed cannot exceed 300 km/h",
     "output_type": "error",
     "traceback": [
      "\u001b[1;31m---------------------------------------------------------------------------\u001b[0m",
      "\u001b[1;31mValueError\u001b[0m                                Traceback (most recent call last)",
      "Cell \u001b[1;32mIn[19], line 22\u001b[0m\n\u001b[0;32m     20\u001b[0m \u001b[38;5;28mprint\u001b[39m(car\u001b[38;5;241m.\u001b[39mmodel)      \u001b[38;5;66;03m# Output: Ferrari\u001b[39;00m\n\u001b[0;32m     21\u001b[0m \u001b[38;5;28mprint\u001b[39m(car\u001b[38;5;241m.\u001b[39mcolor)      \u001b[38;5;66;03m# Output: 'color' attribute is not defined\u001b[39;00m\n\u001b[1;32m---> 22\u001b[0m \u001b[43mcar\u001b[49m\u001b[38;5;241;43m.\u001b[39;49m\u001b[43mspeed\u001b[49m \u001b[38;5;241m=\u001b[39m \u001b[38;5;241m350\u001b[39m       \u001b[38;5;66;03m# Raises: ValueError: Speed cannot exceed 300 km/h\u001b[39;00m\n",
      "Cell \u001b[1;32mIn[19], line 15\u001b[0m, in \u001b[0;36mCar.__setattr__\u001b[1;34m(self, attr, value)\u001b[0m\n\u001b[0;32m     13\u001b[0m \u001b[38;5;28;01mdef\u001b[39;00m \u001b[38;5;21m__setattr__\u001b[39m(\u001b[38;5;28mself\u001b[39m, attr, value):\n\u001b[0;32m     14\u001b[0m     \u001b[38;5;28;01mif\u001b[39;00m attr \u001b[38;5;241m==\u001b[39m \u001b[38;5;124m'\u001b[39m\u001b[38;5;124mspeed\u001b[39m\u001b[38;5;124m'\u001b[39m \u001b[38;5;129;01mand\u001b[39;00m value \u001b[38;5;241m>\u001b[39m \u001b[38;5;241m300\u001b[39m:\n\u001b[1;32m---> 15\u001b[0m         \u001b[38;5;28;01mraise\u001b[39;00m \u001b[38;5;167;01mValueError\u001b[39;00m(\u001b[38;5;124m\"\u001b[39m\u001b[38;5;124mSpeed cannot exceed 300 km/h\u001b[39m\u001b[38;5;124m\"\u001b[39m)\n\u001b[0;32m     16\u001b[0m     \u001b[38;5;28msuper\u001b[39m()\u001b[38;5;241m.\u001b[39m\u001b[38;5;21m__setattr__\u001b[39m(attr, value)\n",
      "\u001b[1;31mValueError\u001b[0m: Speed cannot exceed 300 km/h"
     ]
    }
   ],
   "source": [
    "\"\"\" __getattr__ and __setattr__ for Attribute Access :\n",
    "__getattr__ and __setattr__ methods are useful for managing dynamic or controlled attribute access.\n",
    "__getattr__: Handles the case when trying to access undefined attributes.\n",
    "__setattr__: Controls setting attributes and adds validation.\"\"\"\n",
    "class Car:\n",
    "    def __init__(self, model, speed):\n",
    "        self.model = model\n",
    "        self.speed = speed\n",
    "\n",
    "    def __getattr__(self, attr):\n",
    "        return f\"'{attr}' attribute is not defined\"\n",
    "\n",
    "    def __setattr__(self, attr, value):\n",
    "        if attr == 'speed' and value > 300:\n",
    "            raise ValueError(\"Speed cannot exceed 300 km/h\")\n",
    "        super().__setattr__(attr, value)\n",
    "\n",
    "# Example Usage\n",
    "car = Car(\"Ferrari\", 250)\n",
    "print(car.model)      # Output: Ferrari\n",
    "print(car.color)      # Output: 'color' attribute is not defined\n",
    "car.speed = 350       # Raises: ValueError: Speed cannot exceed 300 km/h\n"
   ]
  },
  {
   "cell_type": "code",
   "execution_count": 20,
   "id": "30861391-f6cc-4d77-a4ee-ef7171d3d8fd",
   "metadata": {},
   "outputs": [
    {
     "name": "stdout",
     "output_type": "stream",
     "text": [
      "Rectangle(3 x 4)\n",
      "12\n"
     ]
    }
   ],
   "source": [
    "\"\"\" __init__ and __str__ Methods (Extended)\n",
    "Class with Default Values and Validation in __init__\n",
    "You can initialize a class with default values and validation to avoid illegal inputs.\"\"\"\n",
    "class Rectangle:\n",
    "    def __init__(self, width=1, height=1):\n",
    "        if width <= 0 or height <= 0:\n",
    "            raise ValueError(\"Width and height must be positive\")\n",
    "        self.width = width\n",
    "        self.height = height\n",
    "\n",
    "    def area(self):\n",
    "        return self.width * self.height\n",
    "\n",
    "    def __str__(self):\n",
    "        return f\"Rectangle({self.width} x {self.height})\"\n",
    "\n",
    "# Example Usage\n",
    "rect = Rectangle(3, 4)\n",
    "print(rect)            # Output: Rectangle(3 x 4)\n",
    "print(rect.area())     # Output: 12\n"
   ]
  },
  {
   "cell_type": "code",
   "execution_count": 21,
   "id": "d2f4d041-1eac-460a-a021-4ec21d73f735",
   "metadata": {},
   "outputs": [
    {
     "name": "stdout",
     "output_type": "stream",
     "text": [
      "Point(6, 9)\n",
      "Point(4, 9)\n"
     ]
    }
   ],
   "source": [
    "\"\"\" Advanced Operator Overloading\n",
    "Overloading * and ** (Power) Operators for Custom Operations\n",
    "Python also allows overloading of multiplication (*) and power (**) operators.\"\"\"\n",
    "class Point:\n",
    "    def __init__(self, x, y):\n",
    "        self.x = x\n",
    "        self.y = y\n",
    "\n",
    "    # Overload the * operator to scale the point\n",
    "    def __mul__(self, scalar):\n",
    "        return Point(self.x * scalar, self.y * scalar)\n",
    "\n",
    "    # Overload the ** operator to raise both x and y to the power of n\n",
    "    def __pow__(self, power):\n",
    "        return Point(self.x ** power, self.y ** power)\n",
    "\n",
    "    # String representation to print the point nicely\n",
    "    def __str__(self):\n",
    "        return f\"Point({self.x}, {self.y})\"\n",
    "\n",
    "# Example Usage\n",
    "p = Point(2, 3)\n",
    "\n",
    "# Overloaded * operator to scale the point by 3\n",
    "p_scaled = p * 3\n",
    "print(p_scaled)  # Output: Point(6, 9)\n",
    "\n",
    "# Overloaded ** operator to raise both x and y to the power of 2\n",
    "p_power = p ** 2\n",
    "print(p_power)  # Output: Point(4, 9)\n"
   ]
  },
  {
   "cell_type": "code",
   "execution_count": null,
   "id": "491632c5-7724-4d5e-b8ff-bd244565db23",
   "metadata": {},
   "outputs": [],
   "source": []
  }
 ],
 "metadata": {
  "kernelspec": {
   "display_name": "Python 3 (ipykernel)",
   "language": "python",
   "name": "python3"
  },
  "language_info": {
   "codemirror_mode": {
    "name": "ipython",
    "version": 3
   },
   "file_extension": ".py",
   "mimetype": "text/x-python",
   "name": "python",
   "nbconvert_exporter": "python",
   "pygments_lexer": "ipython3",
   "version": "3.11.3"
  }
 },
 "nbformat": 4,
 "nbformat_minor": 5
}
