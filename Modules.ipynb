{
 "cells": [
  {
   "cell_type": "code",
   "execution_count": 1,
   "id": "0ba849e4-af29-4e3e-b5e6-70cf9cf8189c",
   "metadata": {},
   "outputs": [
    {
     "name": "stdout",
     "output_type": "stream",
     "text": [
      "4.0\n"
     ]
    }
   ],
   "source": [
    "\"\"\" Importing Standard Modules\n",
    "You can import built-in Python modules like math, os, sys, etc., using the import statement.\"\"\"\n",
    "import math\n",
    "\n",
    "# Example Usage\n",
    "result = math.sqrt(16)\n",
    "print(result)  # Output: 4.0\n"
   ]
  },
  {
   "cell_type": "code",
   "execution_count": 2,
   "id": "b8050b7a-4ff9-4691-a8ed-39d39f057164",
   "metadata": {},
   "outputs": [
    {
     "name": "stdout",
     "output_type": "stream",
     "text": [
      "78.53981633974483\n",
      "5.0\n"
     ]
    }
   ],
   "source": [
    "\"\"\" Using from...import Statement\n",
    "The from...import statement allows you to import specific functions or variables from a module, instead of the entire module.\"\"\"\n",
    "from math import pi, sqrt\n",
    "\n",
    "# Example Usage\n",
    "area = pi * (5 ** 2)\n",
    "root = sqrt(25)\n",
    "\n",
    "print(area)  # Output: 78.53981633974483\n",
    "print(root)  # Output: 5.0\n"
   ]
  },
  {
   "cell_type": "code",
   "execution_count": 3,
   "id": "a1ba8f76-d116-4d35-bac4-844157738828",
   "metadata": {},
   "outputs": [
    {
     "name": "stdout",
     "output_type": "stream",
     "text": [
      "Current Directory: C:\\Users\\Admin\n",
      "Files and Directories: ['(Matplotlib Bar plot and Histogram.ipynb', '(Matplotlib.ipynb', '.angular-config.json', '.bash_history', '.cache', '.config', '.eclipse', '.gitconfig', '.idlerc', '.ipynb_checkpoints', '.ipython', '.jupyter', '.lesshst', '.m2', '.matplotlib', '.node_repl_history', '.opera', '.p2', '.sts4', '.vscode', '3D Objects', 'a.ipynb', 'after_drop.csv', 'AppData', 'Application Data', 'cleaned_data.csv', 'Contacts', 'Cookies', 'data.txt', 'Datatype.ipynb', 'Desktop', 'Documents', 'Downloads', 'eclipse', 'eclipse-workspace', 'experiment_data.mat', 'Favorites', 'git', 'Hello.ipynb', 'IntelGraphicsProfiles', 'Links', 'Local Settings', 'Matplotlib more plot and formatting.ipynb', 'Matplotlib more plots and formatting.ipynb', 'Matplotlibchat.ipynb', 'matplotlibexample.ipynb', 'Music', 'mvn', 'My Documents', 'my-first-project', 'NetHood', 'node_modules', 'NTUSER.DAT', 'ntuser.dat.LOG1', 'ntuser.dat.LOG2', 'NTUSER.DAT{53b39e88-18c4-11ea-a811-000d3aa4692b}.TM.blf', 'NTUSER.DAT{53b39e88-18c4-11ea-a811-000d3aa4692b}.TMContainer00000000000000000001.regtrans-ms', 'NTUSER.DAT{53b39e88-18c4-11ea-a811-000d3aa4692b}.TMContainer00000000000000000002.regtrans-ms', 'ntuser.ini', 'Numpy Mathematical and Logical Operations.ipynb', 'Numpy Stastical Function.ipynb', 'NumpySliceingclass.ipynb', 'NumpySlicing.ipynb', 'NumpySlicing.txt', 'Numpy_Function.ipynb', 'OneDrive', 'output.csv', 'output1.csv', 'package-lock.json', 'package.json', 'Pandas Data Analysis.ipynb', 'Pandas IO and Cleaning Data.ipynb', 'Pandas Pivot Table.ipynb', 'Pandas series _dataframe.ipynb', 'Pictures', 'Postman', 'PrintHood', 'Product_Sales_Analysis (1).ipynb', 'Recent', 'Saved Games', 'SciPy Linear Algebra and Ndimage.ipynb', 'Scipy Transform,Interpolation and IO.ipynb', 'Scipy.ipynb', 'Searches', 'SendTo', 'Special (Magic) Methods.ipynb', 'Start Menu', 'student_scores.npy', 'Templates', 'Untitled.ipynb', 'Untitled1.ipynb', 'Untitled10.ipynb', 'Untitled11.ipynb', 'Untitled12.ipynb', 'Untitled2.ipynb', 'Untitled3.ipynb', 'Untitled4.ipynb', 'Untitled5.ipynb', 'Untitled6.ipynb', 'Untitled7.ipynb', 'Untitled8.ipynb', 'Untitled9.ipynb', 'Videos', 'WPS Cloud Files']\n",
      "new_folder created\n"
     ]
    }
   ],
   "source": [
    "\"\"\" os Module\n",
    "The os module allows you to interact with the operating system.\"\"\"\n",
    "import os\n",
    "\n",
    "# Get the current working directory\n",
    "current_dir = os.getcwd()\n",
    "print(f\"Current Directory: {current_dir}\")\n",
    "\n",
    "# List files and directories\n",
    "files = os.listdir(current_dir)\n",
    "print(\"Files and Directories:\", files)\n",
    "\n",
    "# Create a new directory\n",
    "os.mkdir(\"new_folder\")\n",
    "print(\"new_folder created\")\n"
   ]
  },
  {
   "cell_type": "code",
   "execution_count": 4,
   "id": "4b3d4043-cb0f-40b4-b9a7-c2981b9aace6",
   "metadata": {},
   "outputs": [
    {
     "name": "stdout",
     "output_type": "stream",
     "text": [
      "Script Name: C:\\Users\\Admin\\AppData\\Local\\Programs\\Python\\Python311\\Lib\\site-packages\\ipykernel_launcher.py\n",
      "Arguments: ['-f', 'C:\\\\Users\\\\Admin\\\\AppData\\\\Roaming\\\\jupyter\\\\runtime\\\\kernel-0f54516d-da71-4aa3-a847-3c7633fedd56.json']\n"
     ]
    },
    {
     "ename": "SystemExit",
     "evalue": "Exiting the script",
     "output_type": "error",
     "traceback": [
      "An exception has occurred, use %tb to see the full traceback.\n",
      "\u001b[1;31mSystemExit\u001b[0m\u001b[1;31m:\u001b[0m Exiting the script\n"
     ]
    },
    {
     "name": "stderr",
     "output_type": "stream",
     "text": [
      "C:\\Users\\Admin\\AppData\\Local\\Programs\\Python\\Python311\\Lib\\site-packages\\IPython\\core\\interactiveshell.py:3585: UserWarning: To exit: use 'exit', 'quit', or Ctrl-D.\n",
      "  warn(\"To exit: use 'exit', 'quit', or Ctrl-D.\", stacklevel=1)\n"
     ]
    }
   ],
   "source": [
    "\"\"\" sys Module\n",
    "The sys module provides access to system-specific parameters and functions.\n",
    "Example: Command-line Arguments and Exiting the Program\"\"\"\n",
    "\n",
    "import sys\n",
    "\n",
    "# Command-line arguments\n",
    "print(\"Script Name:\", sys.argv[0])\n",
    "print(\"Arguments:\", sys.argv[1:])\n",
    "\n",
    "# Exit the program with a custom message\n",
    "sys.exit(\"Exiting the script\")\n",
    "\n"
   ]
  },
  {
   "cell_type": "code",
   "execution_count": 5,
   "id": "0d458403-79ee-4618-84c6-2e2442d58a20",
   "metadata": {},
   "outputs": [
    {
     "name": "stdout",
     "output_type": "stream",
     "text": [
      "Cosine of 45°: 0.7071067811865476\n",
      "5! (Factorial of 5): 120\n",
      "Logarithm base 10 of 100: 2.0\n"
     ]
    }
   ],
   "source": [
    "\"\"\"\n",
    "math Module\n",
    "The math module provides mathematical functions like trigonometry, logarithms, and constants like pi and e.\"\"\"\n",
    "import math\n",
    "\n",
    "# Example Usage\n",
    "angle_rad = math.radians(45)  # Convert degrees to radians\n",
    "cos_value = math.cos(angle_rad)\n",
    "factorial = math.factorial(5)\n",
    "log_value = math.log(100, 10)  # Logarithm base 10\n",
    "\n",
    "print(f\"Cosine of 45°: {cos_value}\")\n",
    "print(f\"5! (Factorial of 5): {factorial}\")\n",
    "print(f\"Logarithm base 10 of 100: {log_value}\")\n"
   ]
  },
  {
   "cell_type": "code",
   "execution_count": 6,
   "id": "d3fa6064-b2c2-4b6d-b32b-e2d5098f9607",
   "metadata": {},
   "outputs": [
    {
     "name": "stdout",
     "output_type": "stream",
     "text": [
      "Current Date and Time: 2024-09-29 15:36:37.433135\n",
      "Formatted Date and Time: 2024-09-29 15:36:37\n",
      "Date 5 Days From Now: 2024-10-04 15:36:37.433135\n"
     ]
    }
   ],
   "source": [
    "\"\"\" datetime Module\n",
    "The datetime module provides classes for manipulating dates and times.\"\"\"\n",
    "import datetime\n",
    "\n",
    "# Get the current date and time\n",
    "current_time = datetime.datetime.now()\n",
    "print(\"Current Date and Time:\", current_time)\n",
    "\n",
    "# Formatting date and time\n",
    "formatted_time = current_time.strftime(\"%Y-%m-%d %H:%M:%S\")\n",
    "print(\"Formatted Date and Time:\", formatted_time)\n",
    "\n",
    "# Calculate a future date\n",
    "future_date = current_time + datetime.timedelta(days=5)\n",
    "print(\"Date 5 Days From Now:\", future_date)\n"
   ]
  }
 ],
 "metadata": {
  "kernelspec": {
   "display_name": "Python 3 (ipykernel)",
   "language": "python",
   "name": "python3"
  },
  "language_info": {
   "codemirror_mode": {
    "name": "ipython",
    "version": 3
   },
   "file_extension": ".py",
   "mimetype": "text/x-python",
   "name": "python",
   "nbconvert_exporter": "python",
   "pygments_lexer": "ipython3",
   "version": "3.11.3"
  }
 },
 "nbformat": 4,
 "nbformat_minor": 5
}
