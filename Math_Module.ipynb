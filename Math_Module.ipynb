{
 "cells": [
  {
   "cell_type": "code",
   "execution_count": 1,
   "id": "79d5b54e-55ce-443a-9642-4c89a8cf9e8e",
   "metadata": {},
   "outputs": [
    {
     "name": "stdout",
     "output_type": "stream",
     "text": [
      "3.0\n"
     ]
    }
   ],
   "source": [
    "# This program will show the calculation of square root using the math module  \n",
    "# importing the math module  \n",
    "import math  \n",
    "print(math.sqrt( 9 ))  "
   ]
  },
  {
   "cell_type": "code",
   "execution_count": 2,
   "id": "3e6f9dd6-2228-4964-a9d0-163e3bb191a2",
   "metadata": {},
   "outputs": [
    {
     "name": "stdin",
     "output_type": "stream",
     "text": [
      " 5\n"
     ]
    },
    {
     "name": "stdout",
     "output_type": "stream",
     "text": [
      "120\n"
     ]
    }
   ],
   "source": [
    "import math  \n",
    "n=int(input())  \n",
    "print(math.factorial(n))  "
   ]
  },
  {
   "cell_type": "code",
   "execution_count": 3,
   "id": "c6c5e7e7-9539-4950-a9f7-5620f9ca19a8",
   "metadata": {},
   "outputs": [
    {
     "name": "stdin",
     "output_type": "stream",
     "text": [
      " 2\n",
      " 2\n"
     ]
    },
    {
     "name": "stdout",
     "output_type": "stream",
     "text": [
      "4.0\n"
     ]
    }
   ],
   "source": [
    "import math  \n",
    "num=int(input())  \n",
    "exp=int(input())  \n",
    "res=math.pow(num, exp)  \n",
    "print(res)  "
   ]
  },
  {
   "cell_type": "code",
   "execution_count": 5,
   "id": "e63554ef-727a-47de-8156-7da840e800b8",
   "metadata": {},
   "outputs": [
    {
     "name": "stdin",
     "output_type": "stream",
     "text": [
      " 2\n",
      " 3\n"
     ]
    },
    {
     "name": "stdout",
     "output_type": "stream",
     "text": [
      "1\n"
     ]
    }
   ],
   "source": [
    "import math  \n",
    "n1=int(input())  \n",
    "n2=int(input())  \n",
    "res=math.gcd(n1,n2)  \n",
    "print(res)  "
   ]
  },
  {
   "cell_type": "code",
   "execution_count": 6,
   "id": "95cefc9c-0865-4126-ba30-8793d6b0a1b1",
   "metadata": {},
   "outputs": [
    {
     "data": {
      "text/plain": [
       "['__doc__',\n",
       " '__loader__',\n",
       " '__name__',\n",
       " '__package__',\n",
       " '__spec__',\n",
       " 'acos',\n",
       " 'acosh',\n",
       " 'asin',\n",
       " 'asinh',\n",
       " 'atan',\n",
       " 'atan2',\n",
       " 'atanh',\n",
       " 'cbrt',\n",
       " 'ceil',\n",
       " 'comb',\n",
       " 'copysign',\n",
       " 'cos',\n",
       " 'cosh',\n",
       " 'degrees',\n",
       " 'dist',\n",
       " 'e',\n",
       " 'erf',\n",
       " 'erfc',\n",
       " 'exp',\n",
       " 'exp2',\n",
       " 'expm1',\n",
       " 'fabs',\n",
       " 'factorial',\n",
       " 'floor',\n",
       " 'fmod',\n",
       " 'frexp',\n",
       " 'fsum',\n",
       " 'gamma',\n",
       " 'gcd',\n",
       " 'hypot',\n",
       " 'inf',\n",
       " 'isclose',\n",
       " 'isfinite',\n",
       " 'isinf',\n",
       " 'isnan',\n",
       " 'isqrt',\n",
       " 'lcm',\n",
       " 'ldexp',\n",
       " 'lgamma',\n",
       " 'log',\n",
       " 'log10',\n",
       " 'log1p',\n",
       " 'log2',\n",
       " 'modf',\n",
       " 'nan',\n",
       " 'nextafter',\n",
       " 'perm',\n",
       " 'pi',\n",
       " 'pow',\n",
       " 'prod',\n",
       " 'radians',\n",
       " 'remainder',\n",
       " 'sin',\n",
       " 'sinh',\n",
       " 'sqrt',\n",
       " 'tan',\n",
       " 'tanh',\n",
       " 'tau',\n",
       " 'trunc',\n",
       " 'ulp']"
      ]
     },
     "execution_count": 6,
     "metadata": {},
     "output_type": "execute_result"
    }
   ],
   "source": [
    "import math  \n",
    "dir(math)"
   ]
  },
  {
   "cell_type": "code",
   "execution_count": 7,
   "id": "57e16bbc-38e8-4994-86e1-c3f94c5dd0b3",
   "metadata": {},
   "outputs": [
    {
     "name": "stdin",
     "output_type": "stream",
     "text": [
      " 11.6\n"
     ]
    },
    {
     "name": "stdout",
     "output_type": "stream",
     "text": [
      "12\n"
     ]
    }
   ],
   "source": [
    "import math  \n",
    "n = eval(input())  \n",
    "res = math.ceil(n)  \n",
    "print(res)  "
   ]
  },
  {
   "cell_type": "code",
   "execution_count": 8,
   "id": "8111f0e1-c05c-47a9-8060-c52195057892",
   "metadata": {},
   "outputs": [
    {
     "name": "stdin",
     "output_type": "stream",
     "text": [
      " 11.5\n"
     ]
    },
    {
     "name": "stdout",
     "output_type": "stream",
     "text": [
      "11\n"
     ]
    }
   ],
   "source": [
    "import math  \n",
    "n = eval(input())  \n",
    "res = math.floor(n)  \n",
    "print(res)  "
   ]
  },
  {
   "cell_type": "code",
   "execution_count": 9,
   "id": "4f16d056-7efc-43a1-ad7c-b6e91f59b172",
   "metadata": {},
   "outputs": [
    {
     "name": "stdin",
     "output_type": "stream",
     "text": [
      " 12.765\n"
     ]
    },
    {
     "name": "stdout",
     "output_type": "stream",
     "text": [
      "12.765\n"
     ]
    }
   ],
   "source": [
    "import math  \n",
    "n = eval(input())  \n",
    "res = math.fabs(n)  \n",
    "print(res)  "
   ]
  },
  {
   "cell_type": "code",
   "execution_count": 10,
   "id": "ac57c8fa-3bf5-4732-8aa8-5adaee2f83d8",
   "metadata": {},
   "outputs": [
    {
     "name": "stdout",
     "output_type": "stream",
     "text": [
      "3.141592653589793\n"
     ]
    }
   ],
   "source": [
    "import math  \n",
    "print(math.pi)  "
   ]
  },
  {
   "cell_type": "code",
   "execution_count": 11,
   "id": "6d64033f-0359-40c2-8b84-3ca15557f1b9",
   "metadata": {},
   "outputs": [
    {
     "name": "stdout",
     "output_type": "stream",
     "text": [
      "The value of Euler's Number is:  2.718281828459045\n"
     ]
    }
   ],
   "source": [
    "# importing the required library  \n",
    "import math  \n",
    "   \n",
    "# printing the value of Euler's number using the math module  \n",
    "print( \"The value of Euler's Number is: \", math.e )"
   ]
  },
  {
   "cell_type": "code",
   "execution_count": 12,
   "id": "36c82e83-0b99-4207-b9bb-bb89fc8b9b39",
   "metadata": {},
   "outputs": [
    {
     "name": "stdout",
     "output_type": "stream",
     "text": [
      "The value of Tau is:  6.283185307179586\n"
     ]
    }
   ],
   "source": [
    "# Importing the required library  \n",
    "import math  \n",
    "   \n",
    "# Printing the value of tau using math module  \n",
    "print ( \"The value of Tau is: \", math.tau ) "
   ]
  },
  {
   "cell_type": "code",
   "execution_count": 13,
   "id": "c501d3d9-60e9-438b-a4a6-0e60169520ec",
   "metadata": {},
   "outputs": [
    {
     "name": "stdout",
     "output_type": "stream",
     "text": [
      "inf\n",
      "-inf\n"
     ]
    }
   ],
   "source": [
    "# Importing the required library  \n",
    "import math  \n",
    "   \n",
    "# Printing the value of positive infinity using the math module  \n",
    "print( math.inf )  \n",
    "   \n",
    "# Printing the value of negative infinity using the math module  \n",
    "print( -math.inf )  "
   ]
  },
  {
   "cell_type": "code",
   "execution_count": 14,
   "id": "11ee09a9-576a-4ce8-8248-017d3cc72d76",
   "metadata": {},
   "outputs": [
    {
     "name": "stdout",
     "output_type": "stream",
     "text": [
      "The value of pi is  3.141592653589793\n"
     ]
    }
   ],
   "source": [
    "# Importing the required library  \n",
    "import math  \n",
    "   \n",
    "# Printing the value of pi using the math module  \n",
    "print( \"The value of pi is \", math.pi ) "
   ]
  },
  {
   "cell_type": "code",
   "execution_count": 15,
   "id": "2d63b7cd-2e3b-4952-b086-67e07fc0cdff",
   "metadata": {},
   "outputs": [
    {
     "name": "stdout",
     "output_type": "stream",
     "text": [
      "The value of the circle circumference:  25.132741228718345\n"
     ]
    }
   ],
   "source": [
    "# Importing the required library    \n",
    "import math    \n",
    "     \n",
    "# radius of the circle    \n",
    "r = 4    \n",
    "     \n",
    "# value of pi    \n",
    "pi_value = math.pi    \n",
    "     \n",
    "# circumference of the circle    \n",
    "print(\"The value of the circle circumference: \",2 * pi_value * r)    "
   ]
  },
  {
   "cell_type": "code",
   "execution_count": 16,
   "id": "5f7a7dba-0b48-4eb8-adad-eff66b6f4a14",
   "metadata": {},
   "outputs": [
    {
     "name": "stdout",
     "output_type": "stream",
     "text": [
      "The ceiling value of 4.346 is : 5\n",
      "The floor value of 4.346 is : 4\n"
     ]
    }
   ],
   "source": [
    "# Python program to show how to use floor() and ceil() functions.  \n",
    "   \n",
    "# importing the math module  \n",
    "import math  \n",
    "   \n",
    "x = 4.346  \n",
    "   \n",
    "# returning the ceiling value of 4.346  \n",
    "print(\"The ceiling value of 4.346 is : \", end=\"\")  \n",
    "print( math.ceil(x) )  \n",
    "   \n",
    "# returning the floor value of 4.346  \n",
    "print(\"The floor value of 4.346 is : \", end=\"\")  \n",
    "print( math.floor(x) )  "
   ]
  },
  {
   "cell_type": "code",
   "execution_count": 17,
   "id": "045dfea8-429b-4db3-b95a-700fe83c307e",
   "metadata": {},
   "outputs": [
    {
     "name": "stdout",
     "output_type": "stream",
     "text": [
      "The absolute value of -45 is:  45.0\n"
     ]
    }
   ],
   "source": [
    "# Python program to show how to use fabs() functions.  \n",
    "   \n",
    "# importing the math module  \n",
    "import math  \n",
    "   \n",
    "x = -45  \n",
    "   \n",
    "# returning x's absolute value.  \n",
    "print( \"The absolute value of -45 is: \", math.fabs(x) )  "
   ]
  },
  {
   "cell_type": "code",
   "execution_count": 18,
   "id": "0132db69-e395-4fd5-93b6-3fd97eddb84c",
   "metadata": {},
   "outputs": [
    {
     "name": "stdout",
     "output_type": "stream",
     "text": [
      "The exponenetial value of 4 is:  54.598150033144236\n",
      "The exponenetial value of -3 is:  0.049787068367863944\n",
      "The exponenetial value of 0.0 is:  1.0\n"
     ]
    }
   ],
   "source": [
    "# Python program to show how to use the exp() function.  \n",
    "   \n",
    "# importing the math module  \n",
    "import math  \n",
    "   \n",
    "# declaring some value  \n",
    "num1 = 4  \n",
    "num2 = -3  \n",
    "num3 = 0.00  \n",
    "   \n",
    "# passing above values to the exp() function  \n",
    "print( f\"The exponenetial value of {num1} is: \", math.exp(num1) )  \n",
    "print( f\"The exponenetial value of {num2} is: \", math.exp(num2) )  \n",
    "print( f\"The exponenetial value of {num3} is: \", math.exp(num3) )  "
   ]
  },
  {
   "cell_type": "code",
   "execution_count": 19,
   "id": "eb2a996c-0110-45ea-a8be-61e1ae6baf5d",
   "metadata": {},
   "outputs": [
    {
     "name": "stdout",
     "output_type": "stream",
     "text": [
      "['__doc__', '__loader__', '__name__', '__package__', '__spec__', 'acos', 'acosh', 'asin', 'asinh', 'atan', 'atan2', 'atanh', 'cbrt', 'ceil', 'comb', 'copysign', 'cos', 'cosh', 'degrees', 'dist', 'e', 'erf', 'erfc', 'exp', 'exp2', 'expm1', 'fabs', 'factorial', 'floor', 'fmod', 'frexp', 'fsum', 'gamma', 'gcd', 'hypot', 'inf', 'isclose', 'isfinite', 'isinf', 'isnan', 'isqrt', 'lcm', 'ldexp', 'lgamma', 'log', 'log10', 'log1p', 'log2', 'modf', 'nan', 'nextafter', 'perm', 'pi', 'pow', 'prod', 'radians', 'remainder', 'sin', 'sinh', 'sqrt', 'tan', 'tanh', 'tau', 'trunc', 'ulp']\n"
     ]
    }
   ],
   "source": [
    "# Importing the math module  \n",
    "import math  \n",
    "  \n",
    "functions = dir(math)  \n",
    "print( functions )  "
   ]
  },
  {
   "cell_type": "code",
   "execution_count": null,
   "id": "991b5138-1764-4364-90f3-3c474ae4dbe5",
   "metadata": {},
   "outputs": [],
   "source": []
  }
 ],
 "metadata": {
  "kernelspec": {
   "display_name": "Python 3 (ipykernel)",
   "language": "python",
   "name": "python3"
  },
  "language_info": {
   "codemirror_mode": {
    "name": "ipython",
    "version": 3
   },
   "file_extension": ".py",
   "mimetype": "text/x-python",
   "name": "python",
   "nbconvert_exporter": "python",
   "pygments_lexer": "ipython3",
   "version": "3.11.3"
  }
 },
 "nbformat": 4,
 "nbformat_minor": 5
}
